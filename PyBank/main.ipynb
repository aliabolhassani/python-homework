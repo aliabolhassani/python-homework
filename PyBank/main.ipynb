{
 "metadata": {
  "language_info": {
   "codemirror_mode": {
    "name": "ipython",
    "version": 3
   },
   "file_extension": ".py",
   "mimetype": "text/x-python",
   "name": "python",
   "nbconvert_exporter": "python",
   "pygments_lexer": "ipython3",
   "version": "3.8.5"
  },
  "orig_nbformat": 2,
  "kernelspec": {
   "name": "python385jvsc74a57bd063445afe8c7b7523ede3d3c0ee8a6ac6b44d3f9e9d54521787f3007a99c9ea54",
   "display_name": "Python 3.8.5 64-bit ('base': conda)"
  }
 },
 "nbformat": 4,
 "nbformat_minor": 2,
 "cells": [
  {
   "cell_type": "code",
   "execution_count": 41,
   "metadata": {},
   "outputs": [
    {
     "output_type": "stream",
     "name": "stdout",
     "text": [
      "Financial Analysis\n",
      "----------------------------\n",
      "Total Months: 86\n",
      "Total: $38382578\n",
      "Average  Change: $-2315.12\n",
      "Greatest Increase in Profits: Feb-2012 ($1926159)\n",
      "Greatest Decrease in Profits: Sep-2013 ($-2196167)\n",
      "<ipython-input-41-5ac79a6d4b2b>:10: SettingWithCopyWarning: \n",
      "A value is trying to be set on a copy of a slice from a DataFrame\n",
      "\n",
      "See the caveats in the documentation: https://pandas.pydata.org/pandas-docs/stable/user_guide/indexing.html#returning-a-view-versus-a-copy\n",
      "  changes[\"Change\"][index] = data[\"Profit/Losses\"][index] - data[\"Profit/Losses\"][index - 1]\n"
     ]
    }
   ],
   "source": [
    "import numpy as np\n",
    "import pandas as pd\n",
    "\n",
    "data = pd.read_csv(\"budget_data.csv\")\n",
    "changes = data.rename(columns={'Profit/Losses': 'Change'})\n",
    "\n",
    "for index, item in data[\"Profit/Losses\"].items():\n",
    "    if index == 0:\n",
    "        continue\n",
    "    changes[\"Change\"][index] = data[\"Profit/Losses\"][index] - data[\"Profit/Losses\"][index - 1]\n",
    "\n",
    "changes = changes.iloc[1:]\n",
    "\n",
    "total_months = len(data)\n",
    "total = sum(data[\"Profit/Losses\"])\n",
    "average_change = round(np.average(changes[\"Change\"]), 2)\n",
    "greatest_increase = np.argmax(changes[\"Change\"])\n",
    "greatest_decrease = np.argmin(changes[\"Change\"])\n",
    "\n",
    "print(\"Financial Analysis\")\n",
    "print(\"----------------------------\")\n",
    "print(f\"Total Months: {total_months}\")\n",
    "print(f\"Total: ${total}\")\n",
    "print(f\"Average  Change: ${average_change}\")\n",
    "print(\"Greatest Increase in Profits: \" + f\"{changes['Date'][greatest_increase + 1]}\" + f\" (${changes['Change'][greatest_increase + 1]})\")\n",
    "print(\"Greatest Decrease in Profits: \" + f\"{changes['Date'][greatest_decrease + 1]}\" + f\" (${changes['Change'][greatest_decrease + 1]})\")\n",
    "\n",
    "f = open(\"output.txt\", \"w\")\n",
    "f.write(\"Financial Analysis\\n\")\n",
    "f.write(\"----------------------------\\n\")\n",
    "f.write(f\"Total Months: {total_months}\\n\")\n",
    "f.write(f\"Total: ${total}\\n\")\n",
    "f.write(f\"Average  Change: ${average_change}\\n\")\n",
    "f.write(\"Greatest Increase in Profits: \" + f\"{changes['Date'][greatest_increase + 1]}\" + f\" (${changes['Change'][greatest_increase + 1]})\\n\")\n",
    "f.write(\"Greatest Decrease in Profits: \" + f\"{changes['Date'][greatest_decrease + 1]}\" + f\" (${changes['Change'][greatest_decrease + 1]})\\n\")\n",
    "f.close()\n",
    "\n",
    "\n"
   ]
  }
 ]
}